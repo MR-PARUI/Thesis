{
  "cells": [
    {
      "cell_type": "code",
      "execution_count": 1,
      "metadata": {
        "colab": {
          "base_uri": "https://localhost:8080/"
        },
        "id": "HUL4WsQSKGxx",
        "outputId": "a652657a-531e-4d00-99d5-6e7bcd8e8b0f"
      },
      "outputs": [
        {
          "output_type": "stream",
          "name": "stdout",
          "text": [
            "Looking in indexes: https://pypi.org/simple, https://us-python.pkg.dev/colab-wheels/public/simple/\n",
            "Collecting mahotas\n",
            "  Downloading mahotas-1.4.13-cp37-cp37m-manylinux_2_12_x86_64.manylinux2010_x86_64.whl (5.7 MB)\n",
            "\u001b[K     |████████████████████████████████| 5.7 MB 8.1 MB/s \n",
            "\u001b[?25hRequirement already satisfied: numpy in /usr/local/lib/python3.7/dist-packages (from mahotas) (1.21.6)\n",
            "Installing collected packages: mahotas\n",
            "Successfully installed mahotas-1.4.13\n"
          ]
        }
      ],
      "source": [
        "!pip install mahotas"
      ]
    },
    {
      "cell_type": "code",
      "execution_count": 2,
      "metadata": {
        "id": "SKBhts6cJBoz"
      },
      "outputs": [],
      "source": [
        "import numpy as np\n",
        "import mahotas\n",
        "import cv2\n",
        "import os\n",
        "import numpy as np\n",
        "import matplotlib.pyplot as plt\n",
        "\n",
        "from sklearn.cluster import KMeans\n",
        "from sklearn.metrics import silhouette_score"
      ]
    },
    {
      "cell_type": "code",
      "execution_count": null,
      "metadata": {
        "id": "Pz4BAxyjKRjs"
      },
      "outputs": [],
      "source": [
        "!wget \"https://www.crcv.ucf.edu/data/ucf_sports_actions.zip\" --no-check-certificate\n",
        "!unzip \"ucf_sports_actions.zip\""
      ]
    },
    {
      "cell_type": "code",
      "execution_count": 5,
      "metadata": {
        "id": "C-3xhrenb2qV"
      },
      "outputs": [],
      "source": [
        "import tensorflow as tf\n",
        "import tensorflow.keras as keras\n",
        "\n",
        "from keras.models import Model, Sequential\n",
        "from tensorflow.keras.layers import Dense, Dropout, BatchNormalization, Dense, Activation, Dropout, Bidirectional\n",
        "from keras.layers.recurrent import LSTM\n",
        "from tensorflow.keras.optimizers import Adam\n",
        "\n",
        "import os\n",
        "from os import listdir\n",
        "\n",
        "from keras.applications.vgg19 import VGG19"
      ]
    },
    {
      "cell_type": "code",
      "source": [
        "SIZE = 224\n",
        "\n",
        "VGG_model = VGG19(weights='imagenet', include_top=False, input_shape=(SIZE, SIZE, 3))\n",
        "\n",
        "for layer in VGG_model.layers:\n",
        "    layer.trainable=False"
      ],
      "metadata": {
        "colab": {
          "base_uri": "https://localhost:8080/"
        },
        "id": "7T3dvF0oT7aU",
        "outputId": "6ef23e7a-bb60-4c9f-b6bb-012a84abd32a"
      },
      "execution_count": 6,
      "outputs": [
        {
          "output_type": "stream",
          "name": "stdout",
          "text": [
            "Downloading data from https://storage.googleapis.com/tensorflow/keras-applications/vgg19/vgg19_weights_tf_dim_ordering_tf_kernels_notop.h5\n",
            "80142336/80134624 [==============================] - 0s 0us/step\n",
            "80150528/80134624 [==============================] - 0s 0us/step\n"
          ]
        }
      ]
    },
    {
      "cell_type": "code",
      "execution_count": 15,
      "metadata": {
        "id": "xP0w4dHAJywD"
      },
      "outputs": [],
      "source": [
        "def process_video(fname):\n",
        "    \"\"\"\n",
        "        Uses Hu and Zernike moments\n",
        "\n",
        "    \"\"\"\n",
        "\n",
        "    parts = fname.split(os.sep)\n",
        "    label = parts[-2]\n",
        "\n",
        "    colour_features = []\n",
        "\n",
        "    vidcap = cv2.VideoCapture(fname)\n",
        "    success, img = vidcap.read()\n",
        "\n",
        "    count = 0\n",
        "    while success:\n",
        "        img2 = cv2.cvtColor(img, cv2.COLOR_BGR2GRAY)\n",
        "        thresh = cv2.threshold(img2, 75, 200, cv2.THRESH_BINARY)[1]\n",
        "        F = np.append(mahotas.features.zernike_moments(thresh, 200), cv2.HuMoments(cv2.moments(img2)).flatten())\n",
        "        #print(F)\n",
        "        colour_features.append(F)\n",
        "        success, img = vidcap.read()\n",
        "        count += 1\n",
        "    \n",
        "    print(f'Read {count} frames from {fname}')\n",
        "\n",
        "    if (count < 8):\n",
        "        print(f'Only {count} frames. Skipping video')\n",
        "        return None, None\n",
        "\n",
        "    vidcap.release()\n",
        "        \n",
        "    best_i = 0\n",
        "    best_sc = -1\n",
        "\n",
        "    \"\"\"\n",
        "    for i in range(2,21):\n",
        "        kmeans = KMeans(n_clusters=i, random_state=0).fit(colour_features)\n",
        "        sc = silhouette_score(colour_features, kmeans.labels_)\n",
        "        if(sc > best_sc):\n",
        "            best_i = i\n",
        "            best_sc = sc\n",
        "        # print(i, silhouette_score(colour_features, kmeans.labels_))\n",
        "\n",
        "    # print(f'Best silhouette score was {best_sc} for k value of {best_i}')\n",
        "    \"\"\"\n",
        "\n",
        "    best_i = 5\n",
        "\n",
        "    kmeans = KMeans(n_clusters=best_i, random_state=0).fit(colour_features)\n",
        "    cents = kmeans.cluster_centers_\n",
        "\n",
        "    # print(len(colour_features), len(kmeans.labels_))\n",
        "\n",
        "    min_dict = {}\n",
        "    min_frame= {}\n",
        "    for i in range(len(kmeans.labels_)):\n",
        "        t = np.linalg.norm(colour_features[i]-cents[kmeans.labels_[i]])\n",
        "        if kmeans.labels_[i] not in min_dict:\n",
        "            min_dict[kmeans.labels_[i]] = t\n",
        "            min_frame[kmeans.labels_[i]] = i\n",
        "        else:\n",
        "            if(t < min_dict[kmeans.labels_[i]]):\n",
        "                min_dict[kmeans.labels_[i]] = t\n",
        "                min_frame[kmeans.labels_[i]] = i\n",
        "\n",
        "    # print(min_frame)\n",
        "\n",
        "    key_frames = list(min_frame.values())\n",
        "\n",
        "    count = 0\n",
        "\n",
        "    vidcap = cv2.VideoCapture(fname)\n",
        "    success, img = vidcap.read()\n",
        "\n",
        "    img_arr = []\n",
        "\n",
        "    while success:\n",
        "        if count in key_frames:\n",
        "            #print(f'{count} in key frame')\n",
        "            img = cv2.resize(img, (SIZE,SIZE))\n",
        "            img_arr.append(img)\n",
        "        success, img = vidcap.read()\n",
        "        count += 1\n",
        "    vidcap.release()\n",
        "\n",
        "    f = VGG_model.predict(np.array(img_arr))\n",
        "    f = f.reshape(f.shape[0], -1)\n",
        "\n",
        "    return f , label\n"
      ]
    },
    {
      "cell_type": "code",
      "execution_count": null,
      "metadata": {
        "id": "PpSfu6_6TBA5"
      },
      "outputs": [],
      "source": [
        "img_arr = []\n",
        "labels = []\n",
        "\n",
        "for root, dirs, files in os.walk(\"/content/ucf_sports_actions\", topdown=False):\n",
        "    for name in files:\n",
        "        #print(os.path.join(root, name))\n",
        "        if('avi' in name):\n",
        "            imgs, label = process_video(os.path.join(root, name))\n",
        "            if (type(label) == type(None)):\n",
        "              continue\n",
        "            img_arr.append(imgs)\n",
        "            labels.append(label)"
      ]
    },
    {
      "cell_type": "code",
      "source": [
        "from sklearn import preprocessing\n",
        "import keras.utils\n",
        "from tensorflow.keras.utils import to_categorical\n",
        "\n",
        "labels_encoded = preprocessing.LabelEncoder().fit_transform(labels)\n",
        "train_labels=to_categorical(labels_encoded).astype(int)"
      ],
      "metadata": {
        "id": "SQQcGRVu3YyR"
      },
      "execution_count": 23,
      "outputs": []
    },
    {
      "cell_type": "code",
      "source": [
        "X_train = np.array(img_arr)\n",
        "X_train.shape"
      ],
      "metadata": {
        "colab": {
          "base_uri": "https://localhost:8080/"
        },
        "id": "bN26rxmBx5_M",
        "outputId": "0868227f-f68e-464e-dff2-4b25d55db3a6"
      },
      "execution_count": 25,
      "outputs": [
        {
          "output_type": "execute_result",
          "data": {
            "text/plain": [
              "(134, 5, 25088)"
            ]
          },
          "metadata": {},
          "execution_count": 25
        }
      ]
    },
    {
      "cell_type": "code",
      "source": [
        "model=Sequential()\n",
        "model.add(Bidirectional(LSTM(units=512,return_sequences=True), input_shape=(X_train.shape[1], 25088)))\n",
        "model.add(Bidirectional(LSTM(10)))\n",
        "model.add(Dense(512, activation='relu'))\n",
        "model.add(Dropout(0.5))\n",
        "model.add(Dense(train_labels.shape[1]))\n",
        "model.add(Activation('softmax'))\n",
        "\n",
        "model.compile(loss='categorical_crossentropy', optimizer='Adam', metrics=['categorical_accuracy'])"
      ],
      "metadata": {
        "id": "FebrhxSbyW2w"
      },
      "execution_count": 30,
      "outputs": []
    },
    {
      "cell_type": "code",
      "source": [
        "train_labels.shape"
      ],
      "metadata": {
        "colab": {
          "base_uri": "https://localhost:8080/"
        },
        "id": "ncx6gLfCRhzq",
        "outputId": "a0e1d006-ce88-4ad8-f05b-4764e7059672"
      },
      "execution_count": 31,
      "outputs": [
        {
          "output_type": "execute_result",
          "data": {
            "text/plain": [
              "(134, 22)"
            ]
          },
          "metadata": {},
          "execution_count": 31
        }
      ]
    },
    {
      "cell_type": "code",
      "source": [
        "train_hist = model.fit(X_train, train_labels, batch_size=32, epochs=50)"
      ],
      "metadata": {
        "colab": {
          "base_uri": "https://localhost:8080/"
        },
        "id": "p9MK1peOzsBf",
        "outputId": "daf5ae5b-1c4a-4b61-fd98-191ee0953662"
      },
      "execution_count": 32,
      "outputs": [
        {
          "output_type": "stream",
          "name": "stdout",
          "text": [
            "Epoch 1/50\n",
            "5/5 [==============================] - 11s 183ms/step - loss: 3.0824 - categorical_accuracy: 0.0672\n",
            "Epoch 2/50\n",
            "5/5 [==============================] - 1s 183ms/step - loss: 3.0035 - categorical_accuracy: 0.0970\n",
            "Epoch 3/50\n",
            "5/5 [==============================] - 1s 186ms/step - loss: 2.8679 - categorical_accuracy: 0.1791\n",
            "Epoch 4/50\n",
            "5/5 [==============================] - 1s 183ms/step - loss: 2.7486 - categorical_accuracy: 0.1716\n",
            "Epoch 5/50\n",
            "5/5 [==============================] - 1s 197ms/step - loss: 2.6133 - categorical_accuracy: 0.2164\n",
            "Epoch 6/50\n",
            "5/5 [==============================] - 1s 188ms/step - loss: 2.4612 - categorical_accuracy: 0.3060\n",
            "Epoch 7/50\n",
            "5/5 [==============================] - 1s 194ms/step - loss: 2.3654 - categorical_accuracy: 0.3358\n",
            "Epoch 8/50\n",
            "5/5 [==============================] - 1s 185ms/step - loss: 2.2234 - categorical_accuracy: 0.3582\n",
            "Epoch 9/50\n",
            "5/5 [==============================] - 1s 185ms/step - loss: 2.0374 - categorical_accuracy: 0.4701\n",
            "Epoch 10/50\n",
            "5/5 [==============================] - 1s 186ms/step - loss: 1.8682 - categorical_accuracy: 0.5000\n",
            "Epoch 11/50\n",
            "5/5 [==============================] - 1s 186ms/step - loss: 1.7604 - categorical_accuracy: 0.5970\n",
            "Epoch 12/50\n",
            "5/5 [==============================] - 1s 183ms/step - loss: 1.6188 - categorical_accuracy: 0.5821\n",
            "Epoch 13/50\n",
            "5/5 [==============================] - 1s 189ms/step - loss: 1.4804 - categorical_accuracy: 0.6269\n",
            "Epoch 14/50\n",
            "5/5 [==============================] - 1s 183ms/step - loss: 1.3496 - categorical_accuracy: 0.6343\n",
            "Epoch 15/50\n",
            "5/5 [==============================] - 1s 189ms/step - loss: 1.2290 - categorical_accuracy: 0.7164\n",
            "Epoch 16/50\n",
            "5/5 [==============================] - 1s 188ms/step - loss: 1.1299 - categorical_accuracy: 0.7164\n",
            "Epoch 17/50\n",
            "5/5 [==============================] - 1s 182ms/step - loss: 1.0326 - categorical_accuracy: 0.7388\n",
            "Epoch 18/50\n",
            "5/5 [==============================] - 1s 181ms/step - loss: 0.9371 - categorical_accuracy: 0.7687\n",
            "Epoch 19/50\n",
            "5/5 [==============================] - 1s 186ms/step - loss: 0.8196 - categorical_accuracy: 0.7985\n",
            "Epoch 20/50\n",
            "5/5 [==============================] - 1s 186ms/step - loss: 0.7792 - categorical_accuracy: 0.8060\n",
            "Epoch 21/50\n",
            "5/5 [==============================] - 1s 181ms/step - loss: 0.7517 - categorical_accuracy: 0.8134\n",
            "Epoch 22/50\n",
            "5/5 [==============================] - 1s 183ms/step - loss: 0.6898 - categorical_accuracy: 0.8134\n",
            "Epoch 23/50\n",
            "5/5 [==============================] - 1s 189ms/step - loss: 0.6415 - categorical_accuracy: 0.8507\n",
            "Epoch 24/50\n",
            "5/5 [==============================] - 1s 190ms/step - loss: 0.6056 - categorical_accuracy: 0.8060\n",
            "Epoch 25/50\n",
            "5/5 [==============================] - 1s 184ms/step - loss: 0.6340 - categorical_accuracy: 0.8433\n",
            "Epoch 26/50\n",
            "5/5 [==============================] - 1s 182ms/step - loss: 0.6146 - categorical_accuracy: 0.8284\n",
            "Epoch 27/50\n",
            "5/5 [==============================] - 1s 183ms/step - loss: 0.5298 - categorical_accuracy: 0.8358\n",
            "Epoch 28/50\n",
            "5/5 [==============================] - 1s 195ms/step - loss: 0.5103 - categorical_accuracy: 0.8507\n",
            "Epoch 29/50\n",
            "5/5 [==============================] - 1s 193ms/step - loss: 0.5192 - categorical_accuracy: 0.8284\n",
            "Epoch 30/50\n",
            "5/5 [==============================] - 1s 183ms/step - loss: 0.4573 - categorical_accuracy: 0.8806\n",
            "Epoch 31/50\n",
            "5/5 [==============================] - 1s 186ms/step - loss: 0.4299 - categorical_accuracy: 0.8657\n",
            "Epoch 32/50\n",
            "5/5 [==============================] - 1s 185ms/step - loss: 0.4483 - categorical_accuracy: 0.8731\n",
            "Epoch 33/50\n",
            "5/5 [==============================] - 1s 183ms/step - loss: 0.3715 - categorical_accuracy: 0.8955\n",
            "Epoch 34/50\n",
            "5/5 [==============================] - 1s 190ms/step - loss: 0.4029 - categorical_accuracy: 0.8881\n",
            "Epoch 35/50\n",
            "5/5 [==============================] - 1s 187ms/step - loss: 0.4280 - categorical_accuracy: 0.8507\n",
            "Epoch 36/50\n",
            "5/5 [==============================] - 1s 184ms/step - loss: 0.3715 - categorical_accuracy: 0.8806\n",
            "Epoch 37/50\n",
            "5/5 [==============================] - 1s 193ms/step - loss: 0.3423 - categorical_accuracy: 0.9030\n",
            "Epoch 38/50\n",
            "5/5 [==============================] - 1s 188ms/step - loss: 0.3564 - categorical_accuracy: 0.8657\n",
            "Epoch 39/50\n",
            "5/5 [==============================] - 1s 182ms/step - loss: 0.3744 - categorical_accuracy: 0.8806\n",
            "Epoch 40/50\n",
            "5/5 [==============================] - 1s 183ms/step - loss: 0.3675 - categorical_accuracy: 0.8731\n",
            "Epoch 41/50\n",
            "5/5 [==============================] - 1s 188ms/step - loss: 0.3634 - categorical_accuracy: 0.8881\n",
            "Epoch 42/50\n",
            "5/5 [==============================] - 1s 186ms/step - loss: 0.2983 - categorical_accuracy: 0.9030\n",
            "Epoch 43/50\n",
            "5/5 [==============================] - 1s 199ms/step - loss: 0.3417 - categorical_accuracy: 0.8955\n",
            "Epoch 44/50\n",
            "5/5 [==============================] - 1s 185ms/step - loss: 0.3521 - categorical_accuracy: 0.8657\n",
            "Epoch 45/50\n",
            "5/5 [==============================] - 1s 187ms/step - loss: 0.3456 - categorical_accuracy: 0.8657\n",
            "Epoch 46/50\n",
            "5/5 [==============================] - 1s 187ms/step - loss: 0.3529 - categorical_accuracy: 0.8731\n",
            "Epoch 47/50\n",
            "5/5 [==============================] - 1s 185ms/step - loss: 0.4019 - categorical_accuracy: 0.8507\n",
            "Epoch 48/50\n",
            "5/5 [==============================] - 1s 187ms/step - loss: 0.3209 - categorical_accuracy: 0.8881\n",
            "Epoch 49/50\n",
            "5/5 [==============================] - 1s 187ms/step - loss: 0.3466 - categorical_accuracy: 0.8582\n",
            "Epoch 50/50\n",
            "5/5 [==============================] - 1s 182ms/step - loss: 0.3976 - categorical_accuracy: 0.8731\n"
          ]
        }
      ]
    },
    {
      "cell_type": "code",
      "source": [
        "import matplotlib.pyplot as plt\n",
        "\n",
        "plt.plot(train_hist.history['categorical_accuracy'])"
      ],
      "metadata": {
        "id": "ZYBicCMx0CCB",
        "colab": {
          "base_uri": "https://localhost:8080/",
          "height": 282
        },
        "outputId": "02a90b6a-3871-40f1-ae79-4ed0aa78cf7c"
      },
      "execution_count": 33,
      "outputs": [
        {
          "output_type": "execute_result",
          "data": {
            "text/plain": [
              "[<matplotlib.lines.Line2D at 0x7f751c1cda50>]"
            ]
          },
          "metadata": {},
          "execution_count": 33
        },
        {
          "output_type": "display_data",
          "data": {
            "text/plain": [
              "<Figure size 432x288 with 1 Axes>"
            ],
            "image/png": "[encoded data removed]"
          },
          "metadata": {
            "needs_background": "light"
          }
        }
      ]
    },
    {
      "cell_type": "code",
      "source": [
        "model2=Sequential()\n",
        "model2.add(LSTM(units=512, return_sequences=True, input_shape=(X_train.shape[1], 25088)))\n",
        "model2.add(LSTM(64))\n",
        "model2.add(Dense(512, activation='relu'))\n",
        "model2.add(Dropout(0.2))\n",
        "model2.add(Dense(train_labels.shape[1]))\n",
        "model2.add(Activation('softmax'))\n",
        "\n",
        "model2.compile(loss='categorical_crossentropy', optimizer='Adam', metrics=['categorical_accuracy'])"
      ],
      "metadata": {
        "id": "TTbReYU9FBqg"
      },
      "execution_count": 43,
      "outputs": []
    },
    {
      "cell_type": "code",
      "source": [
        "train_hist2 = model2.fit(X_train, train_labels, batch_size=32, epochs=100)"
      ],
      "metadata": {
        "colab": {
          "base_uri": "https://localhost:8080/"
        },
        "id": "i2_o9RKzTGDp",
        "outputId": "24ee3b7d-d3d4-4352-fab5-f341b24ba084"
      },
      "execution_count": 44,
      "outputs": [
        {
          "output_type": "stream",
          "name": "stdout",
          "text": [
            "Epoch 1/100\n",
            "5/5 [==============================] - 7s 101ms/step - loss: 3.0912 - categorical_accuracy: 0.0672\n",
            "Epoch 2/100\n",
            "5/5 [==============================] - 0s 99ms/step - loss: 2.8628 - categorical_accuracy: 0.0821\n",
            "Epoch 3/100\n",
            "5/5 [==============================] - 1s 109ms/step - loss: 2.7041 - categorical_accuracy: 0.1493\n",
            "Epoch 4/100\n",
            "5/5 [==============================] - 0s 98ms/step - loss: 2.5221 - categorical_accuracy: 0.2463\n",
            "Epoch 5/100\n",
            "5/5 [==============================] - 1s 102ms/step - loss: 2.2977 - categorical_accuracy: 0.3134\n",
            "Epoch 6/100\n",
            "5/5 [==============================] - 0s 99ms/step - loss: 2.0298 - categorical_accuracy: 0.5000\n",
            "Epoch 7/100\n",
            "5/5 [==============================] - 0s 96ms/step - loss: 1.6860 - categorical_accuracy: 0.6269\n",
            "Epoch 8/100\n",
            "5/5 [==============================] - 0s 99ms/step - loss: 1.3996 - categorical_accuracy: 0.6940\n",
            "Epoch 9/100\n",
            "5/5 [==============================] - 0s 100ms/step - loss: 1.1355 - categorical_accuracy: 0.7164\n",
            "Epoch 10/100\n",
            "5/5 [==============================] - 0s 101ms/step - loss: 0.9098 - categorical_accuracy: 0.7910\n",
            "Epoch 11/100\n",
            "5/5 [==============================] - 0s 99ms/step - loss: 0.7419 - categorical_accuracy: 0.8209\n",
            "Epoch 12/100\n",
            "5/5 [==============================] - 0s 97ms/step - loss: 0.6423 - categorical_accuracy: 0.8433\n",
            "Epoch 13/100\n",
            "5/5 [==============================] - 1s 102ms/step - loss: 0.5837 - categorical_accuracy: 0.8358\n",
            "Epoch 14/100\n",
            "5/5 [==============================] - 0s 100ms/step - loss: 0.5120 - categorical_accuracy: 0.8582\n",
            "Epoch 15/100\n",
            "5/5 [==============================] - 1s 98ms/step - loss: 0.4615 - categorical_accuracy: 0.8358\n",
            "Epoch 16/100\n",
            "5/5 [==============================] - 1s 101ms/step - loss: 0.4065 - categorical_accuracy: 0.8955\n",
            "Epoch 17/100\n",
            "5/5 [==============================] - 0s 100ms/step - loss: 0.3756 - categorical_accuracy: 0.8806\n",
            "Epoch 18/100\n",
            "5/5 [==============================] - 0s 97ms/step - loss: 0.3273 - categorical_accuracy: 0.8806\n",
            "Epoch 19/100\n",
            "5/5 [==============================] - 1s 100ms/step - loss: 0.3050 - categorical_accuracy: 0.8731\n",
            "Epoch 20/100\n",
            "5/5 [==============================] - 0s 97ms/step - loss: 0.3035 - categorical_accuracy: 0.8806\n",
            "Epoch 21/100\n",
            "5/5 [==============================] - 0s 96ms/step - loss: 0.2809 - categorical_accuracy: 0.8955\n",
            "Epoch 22/100\n",
            "5/5 [==============================] - 1s 101ms/step - loss: 0.2802 - categorical_accuracy: 0.8881\n",
            "Epoch 23/100\n",
            "5/5 [==============================] - 1s 101ms/step - loss: 0.3041 - categorical_accuracy: 0.8731\n",
            "Epoch 24/100\n",
            "5/5 [==============================] - 1s 101ms/step - loss: 0.3330 - categorical_accuracy: 0.8881\n",
            "Epoch 25/100\n",
            "5/5 [==============================] - 1s 101ms/step - loss: 0.3157 - categorical_accuracy: 0.8731\n",
            "Epoch 26/100\n",
            "5/5 [==============================] - 0s 98ms/step - loss: 0.2956 - categorical_accuracy: 0.8881\n",
            "Epoch 27/100\n",
            "5/5 [==============================] - 0s 100ms/step - loss: 0.3009 - categorical_accuracy: 0.8582\n",
            "Epoch 28/100\n",
            "5/5 [==============================] - 0s 98ms/step - loss: 0.3312 - categorical_accuracy: 0.8881\n",
            "Epoch 29/100\n",
            "5/5 [==============================] - 1s 101ms/step - loss: 0.3135 - categorical_accuracy: 0.8806\n",
            "Epoch 30/100\n",
            "5/5 [==============================] - 0s 96ms/step - loss: 0.3001 - categorical_accuracy: 0.8731\n",
            "Epoch 31/100\n",
            "5/5 [==============================] - 1s 103ms/step - loss: 0.3155 - categorical_accuracy: 0.8806\n",
            "Epoch 32/100\n",
            "5/5 [==============================] - 0s 99ms/step - loss: 0.3141 - categorical_accuracy: 0.8806\n",
            "Epoch 33/100\n",
            "5/5 [==============================] - 0s 98ms/step - loss: 0.2532 - categorical_accuracy: 0.9030\n",
            "Epoch 34/100\n",
            "5/5 [==============================] - 0s 98ms/step - loss: 0.2493 - categorical_accuracy: 0.9104\n",
            "Epoch 35/100\n",
            "5/5 [==============================] - 1s 108ms/step - loss: 0.2414 - categorical_accuracy: 0.9179\n",
            "Epoch 36/100\n",
            "5/5 [==============================] - 1s 105ms/step - loss: 0.2129 - categorical_accuracy: 0.9104\n",
            "Epoch 37/100\n",
            "5/5 [==============================] - 1s 101ms/step - loss: 0.2145 - categorical_accuracy: 0.9030\n",
            "Epoch 38/100\n",
            "5/5 [==============================] - 0s 95ms/step - loss: 0.1814 - categorical_accuracy: 0.9478\n",
            "Epoch 39/100\n",
            "5/5 [==============================] - 0s 95ms/step - loss: 0.1855 - categorical_accuracy: 0.9254\n",
            "Epoch 40/100\n",
            "5/5 [==============================] - 1s 100ms/step - loss: 0.1699 - categorical_accuracy: 0.9179\n",
            "Epoch 41/100\n",
            "5/5 [==============================] - 0s 98ms/step - loss: 0.2106 - categorical_accuracy: 0.9104\n",
            "Epoch 42/100\n",
            "5/5 [==============================] - 0s 101ms/step - loss: 0.2072 - categorical_accuracy: 0.9104\n",
            "Epoch 43/100\n",
            "5/5 [==============================] - 1s 104ms/step - loss: 0.1878 - categorical_accuracy: 0.9254\n",
            "Epoch 44/100\n",
            "5/5 [==============================] - 0s 100ms/step - loss: 0.2248 - categorical_accuracy: 0.9104\n",
            "Epoch 45/100\n",
            "5/5 [==============================] - 1s 104ms/step - loss: 0.1824 - categorical_accuracy: 0.9328\n",
            "Epoch 46/100\n",
            "5/5 [==============================] - 1s 99ms/step - loss: 0.2076 - categorical_accuracy: 0.8955\n",
            "Epoch 47/100\n",
            "5/5 [==============================] - 1s 99ms/step - loss: 0.1883 - categorical_accuracy: 0.9254\n",
            "Epoch 48/100\n",
            "5/5 [==============================] - 1s 102ms/step - loss: 0.1849 - categorical_accuracy: 0.9179\n",
            "Epoch 49/100\n",
            "5/5 [==============================] - 0s 94ms/step - loss: 0.1747 - categorical_accuracy: 0.9254\n",
            "Epoch 50/100\n",
            "5/5 [==============================] - 1s 97ms/step - loss: 0.2530 - categorical_accuracy: 0.9104\n",
            "Epoch 51/100\n",
            "5/5 [==============================] - 0s 96ms/step - loss: 0.2143 - categorical_accuracy: 0.9179\n",
            "Epoch 52/100\n",
            "5/5 [==============================] - 1s 98ms/step - loss: 0.1858 - categorical_accuracy: 0.9179\n",
            "Epoch 53/100\n",
            "5/5 [==============================] - 0s 100ms/step - loss: 0.1625 - categorical_accuracy: 0.9403\n",
            "Epoch 54/100\n",
            "5/5 [==============================] - 0s 93ms/step - loss: 0.1429 - categorical_accuracy: 0.9478\n",
            "Epoch 55/100\n",
            "5/5 [==============================] - 0s 99ms/step - loss: 0.1659 - categorical_accuracy: 0.9328\n",
            "Epoch 56/100\n",
            "5/5 [==============================] - 0s 93ms/step - loss: 0.1664 - categorical_accuracy: 0.9403\n",
            "Epoch 57/100\n",
            "5/5 [==============================] - 0s 98ms/step - loss: 0.1964 - categorical_accuracy: 0.9254\n",
            "Epoch 58/100\n",
            "5/5 [==============================] - 0s 97ms/step - loss: 0.1614 - categorical_accuracy: 0.9403\n",
            "Epoch 59/100\n",
            "5/5 [==============================] - 0s 97ms/step - loss: 0.1632 - categorical_accuracy: 0.9403\n",
            "Epoch 60/100\n",
            "5/5 [==============================] - 1s 97ms/step - loss: 0.1478 - categorical_accuracy: 0.9254\n",
            "Epoch 61/100\n",
            "5/5 [==============================] - 0s 98ms/step - loss: 0.1435 - categorical_accuracy: 0.9328\n",
            "Epoch 62/100\n",
            "5/5 [==============================] - 1s 103ms/step - loss: 0.1502 - categorical_accuracy: 0.9254\n",
            "Epoch 63/100\n",
            "5/5 [==============================] - 0s 96ms/step - loss: 0.1325 - categorical_accuracy: 0.9403\n",
            "Epoch 64/100\n",
            "5/5 [==============================] - 0s 100ms/step - loss: 0.1531 - categorical_accuracy: 0.9179\n",
            "Epoch 65/100\n",
            "5/5 [==============================] - 0s 96ms/step - loss: 0.1384 - categorical_accuracy: 0.9403\n",
            "Epoch 66/100\n",
            "5/5 [==============================] - 1s 102ms/step - loss: 0.1110 - categorical_accuracy: 0.9701\n",
            "Epoch 67/100\n",
            "5/5 [==============================] - 1s 100ms/step - loss: 0.1264 - categorical_accuracy: 0.9328\n",
            "Epoch 68/100\n",
            "5/5 [==============================] - 0s 97ms/step - loss: 0.1350 - categorical_accuracy: 0.9403\n",
            "Epoch 69/100\n",
            "5/5 [==============================] - 0s 94ms/step - loss: 0.1250 - categorical_accuracy: 0.9403\n",
            "Epoch 70/100\n",
            "5/5 [==============================] - 0s 98ms/step - loss: 0.1504 - categorical_accuracy: 0.9254\n",
            "Epoch 71/100\n",
            "5/5 [==============================] - 0s 100ms/step - loss: 0.1421 - categorical_accuracy: 0.9254\n",
            "Epoch 72/100\n",
            "5/5 [==============================] - 1s 100ms/step - loss: 0.1308 - categorical_accuracy: 0.9403\n",
            "Epoch 73/100\n",
            "5/5 [==============================] - 0s 98ms/step - loss: 0.1454 - categorical_accuracy: 0.9478\n",
            "Epoch 74/100\n",
            "5/5 [==============================] - 1s 107ms/step - loss: 0.1533 - categorical_accuracy: 0.9403\n",
            "Epoch 75/100\n",
            "5/5 [==============================] - 0s 97ms/step - loss: 0.1424 - categorical_accuracy: 0.9254\n",
            "Epoch 76/100\n",
            "5/5 [==============================] - 0s 98ms/step - loss: 0.1543 - categorical_accuracy: 0.9254\n",
            "Epoch 77/100\n",
            "5/5 [==============================] - 0s 96ms/step - loss: 0.1286 - categorical_accuracy: 0.9403\n",
            "Epoch 78/100\n",
            "5/5 [==============================] - 1s 104ms/step - loss: 0.1272 - categorical_accuracy: 0.9403\n",
            "Epoch 79/100\n",
            "5/5 [==============================] - 1s 106ms/step - loss: 0.1186 - categorical_accuracy: 0.9552\n",
            "Epoch 80/100\n",
            "5/5 [==============================] - 1s 103ms/step - loss: 0.1385 - categorical_accuracy: 0.9478\n",
            "Epoch 81/100\n",
            "5/5 [==============================] - 0s 96ms/step - loss: 0.1377 - categorical_accuracy: 0.9403\n",
            "Epoch 82/100\n",
            "5/5 [==============================] - 0s 98ms/step - loss: 0.1295 - categorical_accuracy: 0.9328\n",
            "Epoch 83/100\n",
            "5/5 [==============================] - 0s 99ms/step - loss: 0.1192 - categorical_accuracy: 0.9552\n",
            "Epoch 84/100\n",
            "5/5 [==============================] - 1s 100ms/step - loss: 0.1202 - categorical_accuracy: 0.9403\n",
            "Epoch 85/100\n",
            "5/5 [==============================] - 1s 106ms/step - loss: 0.1291 - categorical_accuracy: 0.9403\n",
            "Epoch 86/100\n",
            "5/5 [==============================] - 0s 96ms/step - loss: 0.1052 - categorical_accuracy: 0.9627\n",
            "Epoch 87/100\n",
            "5/5 [==============================] - 0s 97ms/step - loss: 0.1069 - categorical_accuracy: 0.9478\n",
            "Epoch 88/100\n",
            "5/5 [==============================] - 1s 98ms/step - loss: 0.1143 - categorical_accuracy: 0.9478\n",
            "Epoch 89/100\n",
            "5/5 [==============================] - 0s 93ms/step - loss: 0.1336 - categorical_accuracy: 0.9328\n",
            "Epoch 90/100\n",
            "5/5 [==============================] - 1s 103ms/step - loss: 0.1166 - categorical_accuracy: 0.9478\n",
            "Epoch 91/100\n",
            "5/5 [==============================] - 0s 98ms/step - loss: 0.1174 - categorical_accuracy: 0.9328\n",
            "Epoch 92/100\n",
            "5/5 [==============================] - 1s 102ms/step - loss: 0.1134 - categorical_accuracy: 0.9403\n",
            "Epoch 93/100\n",
            "5/5 [==============================] - 1s 101ms/step - loss: 0.1203 - categorical_accuracy: 0.9403\n",
            "Epoch 94/100\n",
            "5/5 [==============================] - 1s 101ms/step - loss: 0.1031 - categorical_accuracy: 0.9552\n",
            "Epoch 95/100\n",
            "5/5 [==============================] - 0s 95ms/step - loss: 0.1148 - categorical_accuracy: 0.9478\n",
            "Epoch 96/100\n",
            "5/5 [==============================] - 0s 96ms/step - loss: 0.0971 - categorical_accuracy: 0.9478\n",
            "Epoch 97/100\n",
            "5/5 [==============================] - 0s 95ms/step - loss: 0.1266 - categorical_accuracy: 0.9403\n",
            "Epoch 98/100\n",
            "5/5 [==============================] - 1s 104ms/step - loss: 0.1225 - categorical_accuracy: 0.9552\n",
            "Epoch 99/100\n",
            "5/5 [==============================] - 0s 97ms/step - loss: 0.1072 - categorical_accuracy: 0.9552\n",
            "Epoch 100/100\n",
            "5/5 [==============================] - 1s 105ms/step - loss: 0.1121 - categorical_accuracy: 0.9478\n"
          ]
        }
      ]
    },
    {
      "cell_type": "code",
      "source": [
        "plt.plot(train_hist2.history['categorical_accuracy'])"
      ],
      "metadata": {
        "colab": {
          "base_uri": "https://localhost:8080/",
          "height": 283
        },
        "id": "uvXw4Q3xTR55",
        "outputId": "fa4efa61-f6a5-4e43-c001-d973901086e8"
      },
      "execution_count": 45,
      "outputs": [
        {
          "output_type": "execute_result",
          "data": {
            "text/plain": [
              "[<matplotlib.lines.Line2D at 0x7f751ddc85d0>]"
            ]
          },
          "metadata": {},
          "execution_count": 45
        },
        {
          "output_type": "display_data",
          "data": {
            "text/plain": [
              "<Figure size 432x288 with 1 Axes>"
            ],
            "image/png": "[encoded data removed]"
          },
          "metadata": {
            "needs_background": "light"
          }
        }
      ]
    },
    {
      "cell_type": "code",
      "source": [
        "final_acc = train_hist2.history['categorical_accuracy'][-1]\n",
        "print(f'Final value of accuracy: {final_acc}')"
      ],
      "metadata": {
        "colab": {
          "base_uri": "https://localhost:8080/"
        },
        "id": "1KiQew34TsQJ",
        "outputId": "425ef0e1-80b0-4972-d4d3-f9190d9192eb"
      },
      "execution_count": 47,
      "outputs": [
        {
          "output_type": "stream",
          "name": "stdout",
          "text": [
            "Final value of accuracy: 0.9477611780166626\n"
          ]
        }
      ]
    },
    {
      "cell_type": "code",
      "source": [
        ""
      ],
      "metadata": {
        "id": "pUDmqHpSVQSi"
      },
      "execution_count": null,
      "outputs": []
    }
  ],
  "metadata": {
    "colab": {
      "collapsed_sections": [],
      "name": "Copy of Zernike_+_LSTM.ipynb",
      "provenance": []
    },
    "kernelspec": {
      "display_name": "Python 3",
      "name": "python3"
    },
    "language_info": {
      "name": "python"
    },
    "accelerator": "GPU",
    "gpuClass": "standard"
  },
  "nbformat": 4,
  "nbformat_minor": 0
}