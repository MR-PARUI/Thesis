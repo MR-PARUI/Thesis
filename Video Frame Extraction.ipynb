{
 "cells": [
  {
   "cell_type": "code",
   "execution_count": 11,
   "id": "1fe3a805",
   "metadata": {},
   "outputs": [],
   "source": [
    "import cv2\n",
    "import os\n",
    "import numpy as np\n",
    "import matplotlib.pyplot as plt"
   ]
  },
  {
   "cell_type": "code",
   "execution_count": 12,
   "id": "4552710c",
   "metadata": {},
   "outputs": [],
   "source": [
    "data_dir_path=\"E:\\\\data\"\n",
    "input_data_dir_path=data_dir_path+ '/data1'\n",
    "output_data_dir_path=data_dir_path+ '/Exframe'"
   ]
  },
  {
   "cell_type": "code",
   "execution_count": 13,
   "id": "cb9795a4",
   "metadata": {},
   "outputs": [
    {
     "data": {
      "text/plain": [
       "'E:\\\\data/data1'"
      ]
     },
     "execution_count": 13,
     "metadata": {},
     "output_type": "execute_result"
    }
   ],
   "source": [
    "input_data_dir_path"
   ]
  },
  {
   "cell_type": "code",
   "execution_count": 14,
   "id": "a7a96895",
   "metadata": {},
   "outputs": [],
   "source": [
    "if not os.path.exists(output_data_dir_path):\n",
    "    os.makedirs(output_data_dir_path)"
   ]
  },
  {
   "cell_type": "code",
   "execution_count": 15,
   "id": "a3e44218",
   "metadata": {
    "scrolled": true
   },
   "outputs": [
    {
     "name": "stdout",
     "output_type": "stream",
     "text": [
      "Extracting frame from videos: E:\\data/data1\\test\\video1.mpg\n",
      "Extracting frame from videos: E:\\data/data1\\test\\video2.mpg\n"
     ]
    }
   ],
   "source": [
    "dir_count=0\n",
    "Maxframe=200\n",
    "for f in os.listdir(input_data_dir_path):\n",
    "    file_path=input_data_dir_path + os.path.sep + f\n",
    "    output_dir_name=f\n",
    "    output_dir_path=output_data_dir_path + os.path.sep + output_dir_name\n",
    "    if not os.path.exists(output_dir_path):\n",
    "        os.makedirs(output_dir_path)\n",
    "        \n",
    "    dir_count+=1\n",
    "    for ff in os.listdir(file_path):\n",
    "        video_file_path=file_path + os.path.sep + ff\n",
    "        output_image_folder_path=output_dir_path + os.path.sep + ff.split('.')[0] \n",
    "        if not os.path.exists(output_image_folder_path):\n",
    "            os.makedirs(output_image_folder_path)\n",
    "        count=0\n",
    "        print('Extracting frame from videos:', video_file_path)\n",
    "        vidcap=cv2.VideoCapture(video_file_path)\n",
    "        success, image=vidcap.read()\n",
    "        success=True\n",
    "        while success and count < Maxframe:\n",
    "            #vidcap.set(cv2.CAP_PROP_POS_MSEC, (count*65))\n",
    "            success, image=vidcap.read()\n",
    "            if success:\n",
    "                cv2.imwrite(output_image_folder_path + os.path.sep + \"frame%d.jpg\" % count, image)\n",
    "                count+=1"
   ]
  },
  {
   "cell_type": "code",
   "execution_count": 6,
   "id": "e303a347",
   "metadata": {},
   "outputs": [
    {
     "data": {
      "text/plain": [
       "'E:\\\\data/data1\\\\test'"
      ]
     },
     "execution_count": 6,
     "metadata": {},
     "output_type": "execute_result"
    }
   ],
   "source": [
    "file_path"
   ]
  },
  {
   "cell_type": "code",
   "execution_count": 7,
   "id": "2b77f884",
   "metadata": {},
   "outputs": [
    {
     "data": {
      "text/plain": [
       "'E:\\\\data/Exframe\\\\test\\\\video3'"
      ]
     },
     "execution_count": 7,
     "metadata": {},
     "output_type": "execute_result"
    }
   ],
   "source": [
    "output_image_folder_path"
   ]
  },
  {
   "cell_type": "code",
   "execution_count": 46,
   "id": "ec2d4364",
   "metadata": {},
   "outputs": [],
   "source": []
  },
  {
   "cell_type": "code",
   "execution_count": 3,
   "id": "22d2dabb",
   "metadata": {},
   "outputs": [],
   "source": [
    "path = r'C:\\Users\\Souvik\\Desktop\\Video1\\frame0.jpg'\n",
    " \n",
    "img = cv2.imread(path)"
   ]
  },
  {
   "cell_type": "code",
   "execution_count": 4,
   "id": "200e9423",
   "metadata": {},
   "outputs": [],
   "source": [
    "hsv_frame = cv2.cvtColor(img, cv2.COLOR_BGR2HSV)"
   ]
  },
  {
   "cell_type": "code",
   "execution_count": 6,
   "id": "9c0ac6c0",
   "metadata": {},
   "outputs": [],
   "source": [
    "hist = cv2.calcHist([img], [0, 1, 2], None, [12,5,5],[0, 360, 0, 1, 0, 1])"
   ]
  },
  {
   "cell_type": "code",
   "execution_count": null,
   "id": "0ff29afc",
   "metadata": {},
   "outputs": [],
   "source": []
  },
  {
   "cell_type": "code",
   "execution_count": 11,
   "id": "3f4a03af",
   "metadata": {},
   "outputs": [],
   "source": [
    "path = r'C:\\Users\\Souvik\\Desktop\\Video1\\frame0.jpg'\n",
    " \n",
    "img = cv2.imread(path)"
   ]
  },
  {
   "cell_type": "code",
   "execution_count": 12,
   "id": "7d6d7de7",
   "metadata": {},
   "outputs": [],
   "source": [
    "GR_frame = cv2.cvtColor(img, cv2.COLOR_BGR2GRAY)"
   ]
  },
  {
   "cell_type": "code",
   "execution_count": 13,
   "id": "e3597038",
   "metadata": {},
   "outputs": [],
   "source": [
    "his= cv2.calcHist([GR_frame],[0], None, [256], [0,256])"
   ]
  },
  {
   "cell_type": "code",
   "execution_count": 15,
   "id": "b34964b8",
   "metadata": {},
   "outputs": [
    {
     "data": {
      "text/plain": [
       "[<matplotlib.lines.Line2D at 0x1636c637b80>]"
      ]
     },
     "execution_count": 15,
     "metadata": {},
     "output_type": "execute_result"
    },
    {
     "data": {
      "image/png": "[encoded data removed]",
      "text/plain": [
       "<Figure size 432x288 with 1 Axes>"
      ]
     },
     "metadata": {
      "needs_background": "light"
     },
     "output_type": "display_data"
    }
   ],
   "source": [
    "plt.figure()\n",
    "plt.title(\"Grayscale Histogram\")\n",
    "plt.xlabel(\"Bins\")\n",
    "plt.ylabel(\"# of Pixels\")\n",
    "plt.plot(his)"
   ]
  },
  {
   "cell_type": "code",
   "execution_count": 17,
   "id": "d7089f95",
   "metadata": {},
   "outputs": [
    {
     "data": {
      "text/plain": [
       "(256, 1)"
      ]
     },
     "execution_count": 17,
     "metadata": {},
     "output_type": "execute_result"
    }
   ],
   "source": [
    "his.shape"
   ]
  },
  {
   "cell_type": "code",
   "execution_count": null,
   "id": "20cf9a11",
   "metadata": {},
   "outputs": [],
   "source": []
  }
 ],
 "metadata": {
  "kernelspec": {
   "display_name": "Python 3 (ipykernel)",
   "language": "python",
   "name": "python3"
  },
  "language_info": {
   "codemirror_mode": {
    "name": "ipython",
    "version": 3
   },
   "file_extension": ".py",
   "mimetype": "text/x-python",
   "name": "python",
   "nbconvert_exporter": "python",
   "pygments_lexer": "ipython3",
   "version": "3.9.12"
  }
 },
 "nbformat": 4,
 "nbformat_minor": 5
}
